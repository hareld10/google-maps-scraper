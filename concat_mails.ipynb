{
 "cells": [
  {
   "cell_type": "code",
   "execution_count": 1,
   "metadata": {},
   "outputs": [],
   "source": [
    "import glob\n",
    "import pandas as pd"
   ]
  },
  {
   "cell_type": "code",
   "execution_count": 2,
   "metadata": {},
   "outputs": [],
   "source": [
    "files = glob.glob(\"./data/*_updated.xlsx\")"
   ]
  },
  {
   "cell_type": "code",
   "execution_count": 3,
   "metadata": {},
   "outputs": [],
   "source": [
    "# add a column to the df with the filename\n",
    "# merge all dfs into one\n",
    "dfs = []\n",
    "for f in files:\n",
    "    df = pd.read_excel(f)\n",
    "    df[\"filename\"] = f\n",
    "    dfs.append(df)\n",
    "df = pd.concat(dfs)\n",
    "df.keys()\n",
    "df = df.dropna(subset=[\"Email\"])[[\"Business Name\", \"Website\", \"Email\", \"filename\"]]\n",
    "df.to_csv(\"data/all_emails.csv\", index=False)\n"
   ]
  }
 ],
 "metadata": {
  "kernelspec": {
   "display_name": "venv",
   "language": "python",
   "name": "python3"
  },
  "language_info": {
   "codemirror_mode": {
    "name": "ipython",
    "version": 3
   },
   "file_extension": ".py",
   "mimetype": "text/x-python",
   "name": "python",
   "nbconvert_exporter": "python",
   "pygments_lexer": "ipython3",
   "version": "3.9.22"
  }
 },
 "nbformat": 4,
 "nbformat_minor": 2
}
